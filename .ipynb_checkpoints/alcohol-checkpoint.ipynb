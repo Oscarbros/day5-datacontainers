{
 "cells": [
  {
   "cell_type": "markdown",
   "metadata": {},
   "source": [
    "# Ex - GroupBy"
   ]
  },
  {
   "cell_type": "markdown",
   "metadata": {},
   "source": [
    "### Introduction:\n",
    "\n",
    "GroupBy can be summarizes as Split-Apply-Combine.\n",
    "\n",
    "Special thanks to: https://github.com/justmarkham for sharing the dataset and materials.\n",
    "\n",
    "Check out this [Diagram](http://i.imgur.com/yjNkiwL.png)  \n",
    "### Step 1. Import the necessary libraries"
   ]
  },
  {
   "cell_type": "code",
   "execution_count": 3,
   "metadata": {},
   "outputs": [],
   "source": [
    "import pandas as pd\n",
    "import numpy as np"
   ]
  },
  {
   "cell_type": "markdown",
   "metadata": {},
   "source": [
    "### Step 2. Import the dataset from this [address](https://raw.githubusercontent.com/justmarkham/DAT8/master/data/drinks.csv). "
   ]
  },
  {
   "cell_type": "markdown",
   "metadata": {},
   "source": [
    "### Step 3. Assign it to a variable called drinks."
   ]
  },
  {
   "cell_type": "code",
   "execution_count": 42,
   "metadata": {},
   "outputs": [],
   "source": [
    "drinks = pd.read_csv('drinks.csv')\n",
    "drinks['continent'].fillna('NA', inplace=True)"
   ]
  },
  {
   "cell_type": "markdown",
   "metadata": {},
   "source": [
    "### Step 4. Which continent drinks more beer on average?"
   ]
  },
  {
   "cell_type": "code",
   "execution_count": 60,
   "metadata": {},
   "outputs": [
    {
     "name": "stdout",
     "output_type": "stream",
     "text": [
      "The continent that drinks the most beer is: EU\n"
     ]
    }
   ],
   "source": [
    "continents = drinks.continent\n",
    "uniqueContinents = pd.unique(continents)\n",
    "contBeerMean = []\n",
    "for cont in uniqueContinents:\n",
    "    beerMean = np.mean(drinks.loc[drinks['continent'] == cont, 'beer_servings'])\n",
    "    contBeerMean.append(beerMean)\n",
    "\n",
    "maxBeer = np.max(contBeerMean)\n",
    "maxInd = contBeerMean.index(np.max(contBeerMean))\n",
    "print('The continent that drinks the most beer is: ' + str(uniqueContinents[maxInd]))\n"
   ]
  },
  {
   "cell_type": "markdown",
   "metadata": {},
   "source": [
    "### Step 5. For each continent print the statistics for wine consumption."
   ]
  },
  {
   "cell_type": "code",
   "execution_count": 87,
   "metadata": {},
   "outputs": [
    {
     "name": "stdout",
     "output_type": "stream",
     "text": [
      "AS       wine_servings\n",
      "count       16.00000\n",
      "mean        35.62500\n",
      "std         64.55579\n",
      "min          0.00000\n",
      "25%          1.00000\n",
      "50%          8.50000\n",
      "75%         23.25000\n",
      "max        212.00000\n",
      "\n",
      "EU       wine_servings\n",
      "count       16.00000\n",
      "mean        35.62500\n",
      "std         64.55579\n",
      "min          0.00000\n",
      "25%          1.00000\n",
      "50%          8.50000\n",
      "75%         23.25000\n",
      "max        212.00000\n",
      "\n",
      "AF       wine_servings\n",
      "count       16.00000\n",
      "mean        35.62500\n",
      "std         64.55579\n",
      "min          0.00000\n",
      "25%          1.00000\n",
      "50%          8.50000\n",
      "75%         23.25000\n",
      "max        212.00000\n",
      "\n",
      "NA       wine_servings\n",
      "count       16.00000\n",
      "mean        35.62500\n",
      "std         64.55579\n",
      "min          0.00000\n",
      "25%          1.00000\n",
      "50%          8.50000\n",
      "75%         23.25000\n",
      "max        212.00000\n",
      "\n",
      "SA       wine_servings\n",
      "count       16.00000\n",
      "mean        35.62500\n",
      "std         64.55579\n",
      "min          0.00000\n",
      "25%          1.00000\n",
      "50%          8.50000\n",
      "75%         23.25000\n",
      "max        212.00000\n",
      "\n",
      "OC       wine_servings\n",
      "count       16.00000\n",
      "mean        35.62500\n",
      "std         64.55579\n",
      "min          0.00000\n",
      "25%          1.00000\n",
      "50%          8.50000\n",
      "75%         23.25000\n",
      "max        212.00000\n",
      "\n"
     ]
    }
   ],
   "source": [
    "for cont in uniqueContinents:\n",
    "    wineSeries = (drinks.loc[drinks['continent'] == cont, 'wine_servings'])\n",
    "    wineFrame = series.to_frame()\n",
    "    wineStats = wineFrame.describe()\n",
    "    print(cont + str(wineStats) +'\\n')\n",
    "   "
   ]
  },
  {
   "cell_type": "markdown",
   "metadata": {},
   "source": [
    "### Step 6. Print the mean alcoohol consumption per continent for every column"
   ]
  },
  {
   "cell_type": "code",
   "execution_count": 84,
   "metadata": {},
   "outputs": [
    {
     "name": "stdout",
     "output_type": "stream",
     "text": [
      "AS's average consumption:\n",
      "Beer: 37.04545454545455\n",
      "Wine: 9.068181818181818 \n",
      "Spirits: 60.84090909090909\n",
      "Pure alcohol: 2.1704545454545454\n",
      "\n",
      "EU's average consumption:\n",
      "Beer: 193.77777777777777\n",
      "Wine: 142.22222222222223 \n",
      "Spirits: 132.55555555555554\n",
      "Pure alcohol: 8.617777777777777\n",
      "\n",
      "AF's average consumption:\n",
      "Beer: 61.471698113207545\n",
      "Wine: 16.264150943396228 \n",
      "Spirits: 16.339622641509433\n",
      "Pure alcohol: 3.00754716981132\n",
      "\n",
      "NA's average consumption:\n",
      "Beer: 145.43478260869566\n",
      "Wine: 24.52173913043478 \n",
      "Spirits: 165.7391304347826\n",
      "Pure alcohol: 5.995652173913044\n",
      "\n",
      "SA's average consumption:\n",
      "Beer: 175.08333333333334\n",
      "Wine: 62.416666666666664 \n",
      "Spirits: 114.75\n",
      "Pure alcohol: 6.308333333333334\n",
      "\n",
      "OC's average consumption:\n",
      "Beer: 89.6875\n",
      "Wine: 35.625 \n",
      "Spirits: 58.4375\n",
      "Pure alcohol: 3.3812500000000005\n",
      "\n"
     ]
    }
   ],
   "source": [
    "for cont in uniqueContinents:\n",
    "    contMeanBeer = np.mean(drinks.loc[drinks['continent'] == cont, 'beer_servings'])\n",
    "    contMeanWine = np.mean(drinks.loc[drinks['continent'] == cont, 'wine_servings'])\n",
    "    contMeanSpirits = np.mean(drinks.loc[drinks['continent'] == cont, 'spirit_servings'])\n",
    "    contMeanPure = np.mean(drinks.loc[drinks['continent'] == cont, 'total_litres_of_pure_alcohol'])\n",
    "    print(cont + '\\'s average consumption:\\nBeer: ' + str(contMeanBeer) + '\\nWine: ' + str(contMeanWine) + ' \\nSpirits: ' + str(contMeanSpirits) + '\\nPure alcohol: ' + str(contMeanPure) + '\\n') "
   ]
  },
  {
   "cell_type": "markdown",
   "metadata": {},
   "source": [
    "### Step 7. Print the median alcoohol consumption per continent for every column"
   ]
  },
  {
   "cell_type": "code",
   "execution_count": 85,
   "metadata": {},
   "outputs": [
    {
     "name": "stdout",
     "output_type": "stream",
     "text": [
      "AS's median consumption:\n",
      "Beer: 17.5\n",
      "Wine: 1.0 \n",
      "Spirits: 16.0\n",
      "Pure alcohol: 1.2\n",
      "\n",
      "EU's median consumption:\n",
      "Beer: 219.0\n",
      "Wine: 128.0 \n",
      "Spirits: 122.0\n",
      "Pure alcohol: 10.0\n",
      "\n",
      "AF's median consumption:\n",
      "Beer: 32.0\n",
      "Wine: 2.0 \n",
      "Spirits: 3.0\n",
      "Pure alcohol: 2.3\n",
      "\n",
      "NA's median consumption:\n",
      "Beer: 143.0\n",
      "Wine: 11.0 \n",
      "Spirits: 137.0\n",
      "Pure alcohol: 6.3\n",
      "\n",
      "SA's median consumption:\n",
      "Beer: 162.5\n",
      "Wine: 12.0 \n",
      "Spirits: 108.5\n",
      "Pure alcohol: 6.85\n",
      "\n",
      "OC's median consumption:\n",
      "Beer: 52.5\n",
      "Wine: 8.5 \n",
      "Spirits: 37.0\n",
      "Pure alcohol: 1.75\n",
      "\n"
     ]
    }
   ],
   "source": [
    "for cont in uniqueContinents:\n",
    "    contMeanBeer = np.median(drinks.loc[drinks['continent'] == cont, 'beer_servings'])\n",
    "    contMeanWine = np.median(drinks.loc[drinks['continent'] == cont, 'wine_servings'])\n",
    "    contMeanSpirits = np.median(drinks.loc[drinks['continent'] == cont, 'spirit_servings'])\n",
    "    contMeanPure = np.median(drinks.loc[drinks['continent'] == cont, 'total_litres_of_pure_alcohol'])\n",
    "    print(cont + '\\'s median consumption:\\nBeer: ' + str(contMeanBeer) + '\\nWine: ' + str(contMeanWine) + ' \\nSpirits: ' + str(contMeanSpirits) + '\\nPure alcohol: ' + str(contMeanPure) + '\\n') "
   ]
  },
  {
   "cell_type": "markdown",
   "metadata": {},
   "source": [
    "### Step 8. Print the mean, min and max values for spirit consumption.\n",
    "#### This time output a DataFrame"
   ]
  },
  {
   "cell_type": "code",
   "execution_count": 98,
   "metadata": {},
   "outputs": [
    {
     "data": {
      "text/html": [
       "<div>\n",
       "<style scoped>\n",
       "    .dataframe tbody tr th:only-of-type {\n",
       "        vertical-align: middle;\n",
       "    }\n",
       "\n",
       "    .dataframe tbody tr th {\n",
       "        vertical-align: top;\n",
       "    }\n",
       "\n",
       "    .dataframe thead th {\n",
       "        text-align: right;\n",
       "    }\n",
       "</style>\n",
       "<table border=\"1\" class=\"dataframe\">\n",
       "  <thead>\n",
       "    <tr style=\"text-align: right;\">\n",
       "      <th></th>\n",
       "      <th>spirit_servings</th>\n",
       "    </tr>\n",
       "  </thead>\n",
       "  <tbody>\n",
       "    <tr>\n",
       "      <th>mean</th>\n",
       "      <td>80.994819</td>\n",
       "    </tr>\n",
       "    <tr>\n",
       "      <th>min</th>\n",
       "      <td>0.000000</td>\n",
       "    </tr>\n",
       "    <tr>\n",
       "      <th>max</th>\n",
       "      <td>438.000000</td>\n",
       "    </tr>\n",
       "  </tbody>\n",
       "</table>\n",
       "</div>"
      ],
      "text/plain": [
       "      spirit_servings\n",
       "mean        80.994819\n",
       "min          0.000000\n",
       "max        438.000000"
      ]
     },
     "execution_count": 98,
     "metadata": {},
     "output_type": "execute_result"
    }
   ],
   "source": [
    "spirit_stats = drinks.spirit_servings.describe()\n",
    "specific_stats = spirit_stats[['mean', 'min', 'max']]\n",
    "spiritStatsFrame = pd.DataFrame(specific_stats)\n",
    "spiritStatsFrame"
   ]
  }
 ],
 "metadata": {
  "kernelspec": {
   "display_name": "Python 3",
   "language": "python",
   "name": "python3"
  },
  "language_info": {
   "codemirror_mode": {
    "name": "ipython",
    "version": 3
   },
   "file_extension": ".py",
   "mimetype": "text/x-python",
   "name": "python",
   "nbconvert_exporter": "python",
   "pygments_lexer": "ipython3",
   "version": "3.8.5"
  }
 },
 "nbformat": 4,
 "nbformat_minor": 1
}
